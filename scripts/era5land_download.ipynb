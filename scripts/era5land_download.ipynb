{
 "cells": [
  {
   "cell_type": "code",
   "execution_count": 2,
   "id": "e58256aa",
   "metadata": {},
   "outputs": [
    {
     "name": "stderr",
     "output_type": "stream",
     "text": [
      "2021-11-19 09:57:00,760 INFO Welcome to the CDS\n",
      "2021-11-19 09:57:00,760 INFO Sending request to https://cds.climate.copernicus.eu/api/v2/resources/reanalysis-era5-land\n"
     ]
    },
    {
     "name": "stdout",
     "output_type": "stream",
     "text": [
      "C:\\Users\\wb544715\\OneDrive - WBG\\Desktop\\Sahel_WA_climate\\ERA5_ncfiles/hourly/\n",
      "1950\n"
     ]
    },
    {
     "name": "stderr",
     "output_type": "stream",
     "text": [
      "2021-11-19 09:57:00,879 INFO Request is queued\n",
      "2021-11-19 10:41:21,214 INFO Request is running\n",
      "2021-11-19 11:07:22,791 INFO Request is completed\n",
      "2021-11-19 11:07:22,832 INFO Welcome to the CDS\n",
      "2021-11-19 11:07:22,833 INFO Sending request to https://cds.climate.copernicus.eu/api/v2/resources/reanalysis-era5-land\n",
      "2021-11-19 11:07:22,889 INFO Request is completed\n",
      "2021-11-19 11:07:22,946 INFO Welcome to the CDS\n",
      "2021-11-19 11:07:22,948 INFO Sending request to https://cds.climate.copernicus.eu/api/v2/resources/reanalysis-era5-land\n"
     ]
    },
    {
     "name": "stdout",
     "output_type": "stream",
     "text": [
      "1951\n",
      "1952\n"
     ]
    },
    {
     "name": "stderr",
     "output_type": "stream",
     "text": [
      "2021-11-19 11:07:23,046 INFO Request is completed\n",
      "2021-11-19 11:07:23,100 INFO Welcome to the CDS\n",
      "2021-11-19 11:07:23,101 INFO Sending request to https://cds.climate.copernicus.eu/api/v2/resources/reanalysis-era5-land\n",
      "2021-11-19 11:07:23,151 INFO Request is completed\n",
      "2021-11-19 11:07:23,212 INFO Welcome to the CDS\n",
      "2021-11-19 11:07:23,214 INFO Sending request to https://cds.climate.copernicus.eu/api/v2/resources/reanalysis-era5-land\n",
      "2021-11-19 11:07:23,273 INFO Request is completed\n"
     ]
    },
    {
     "name": "stdout",
     "output_type": "stream",
     "text": [
      "1953\n",
      "1954\n"
     ]
    },
    {
     "name": "stderr",
     "output_type": "stream",
     "text": [
      "2021-11-19 11:07:23,344 INFO Welcome to the CDS\n",
      "2021-11-19 11:07:23,345 INFO Sending request to https://cds.climate.copernicus.eu/api/v2/resources/reanalysis-era5-land\n",
      "2021-11-19 11:07:23,457 INFO Request is completed\n",
      "2021-11-19 11:07:23,520 INFO Welcome to the CDS\n"
     ]
    },
    {
     "name": "stdout",
     "output_type": "stream",
     "text": [
      "1955\n",
      "1956\n"
     ]
    },
    {
     "name": "stderr",
     "output_type": "stream",
     "text": [
      "2021-11-19 11:07:23,521 INFO Sending request to https://cds.climate.copernicus.eu/api/v2/resources/reanalysis-era5-land\n",
      "2021-11-19 11:07:23,584 INFO Request is completed\n",
      "2021-11-19 11:07:23,643 INFO Welcome to the CDS\n",
      "2021-11-19 11:07:23,645 INFO Sending request to https://cds.climate.copernicus.eu/api/v2/resources/reanalysis-era5-land\n",
      "2021-11-19 11:07:23,703 INFO Request is completed\n",
      "2021-11-19 11:07:23,759 INFO Welcome to the CDS\n",
      "2021-11-19 11:07:23,761 INFO Sending request to https://cds.climate.copernicus.eu/api/v2/resources/reanalysis-era5-land\n"
     ]
    },
    {
     "name": "stdout",
     "output_type": "stream",
     "text": [
      "1957\n",
      "1958\n"
     ]
    },
    {
     "name": "stderr",
     "output_type": "stream",
     "text": [
      "2021-11-19 11:07:23,866 INFO Request is completed\n",
      "2021-11-19 11:07:23,926 INFO Welcome to the CDS\n",
      "2021-11-19 11:07:23,927 INFO Sending request to https://cds.climate.copernicus.eu/api/v2/resources/reanalysis-era5-land\n",
      "2021-11-19 11:07:23,980 INFO Request is completed\n",
      "2021-11-19 11:07:24,055 INFO Welcome to the CDS\n",
      "2021-11-19 11:07:24,057 INFO Sending request to https://cds.climate.copernicus.eu/api/v2/resources/reanalysis-era5-land\n",
      "2021-11-19 11:07:24,117 INFO Request is completed\n"
     ]
    },
    {
     "name": "stdout",
     "output_type": "stream",
     "text": [
      "1959\n",
      "1960\n"
     ]
    },
    {
     "name": "stderr",
     "output_type": "stream",
     "text": [
      "2021-11-19 11:07:24,188 INFO Welcome to the CDS\n",
      "2021-11-19 11:07:24,190 INFO Sending request to https://cds.climate.copernicus.eu/api/v2/resources/reanalysis-era5-land\n",
      "2021-11-19 11:07:24,245 INFO Request is completed\n",
      "2021-11-19 11:07:24,307 INFO Welcome to the CDS\n",
      "2021-11-19 11:07:24,308 INFO Sending request to https://cds.climate.copernicus.eu/api/v2/resources/reanalysis-era5-land\n"
     ]
    },
    {
     "name": "stdout",
     "output_type": "stream",
     "text": [
      "1961\n",
      "1962\n"
     ]
    },
    {
     "name": "stderr",
     "output_type": "stream",
     "text": [
      "2021-11-19 11:07:24,367 INFO Request is completed\n",
      "2021-11-19 11:07:24,627 INFO Welcome to the CDS\n",
      "2021-11-19 11:07:24,628 INFO Sending request to https://cds.climate.copernicus.eu/api/v2/resources/reanalysis-era5-land\n",
      "2021-11-19 11:07:24,685 INFO Request is completed\n",
      "2021-11-19 11:07:24,749 INFO Welcome to the CDS\n",
      "2021-11-19 11:07:24,751 INFO Sending request to https://cds.climate.copernicus.eu/api/v2/resources/reanalysis-era5-land\n",
      "2021-11-19 11:07:24,808 INFO Request is completed\n"
     ]
    },
    {
     "name": "stdout",
     "output_type": "stream",
     "text": [
      "1963\n",
      "1964\n"
     ]
    },
    {
     "name": "stderr",
     "output_type": "stream",
     "text": [
      "2021-11-19 11:07:24,859 INFO Welcome to the CDS\n",
      "2021-11-19 11:07:24,860 INFO Sending request to https://cds.climate.copernicus.eu/api/v2/resources/reanalysis-era5-land\n",
      "2021-11-19 11:07:24,922 INFO Request is completed\n",
      "2021-11-19 11:07:24,977 INFO Welcome to the CDS\n",
      "2021-11-19 11:07:24,978 INFO Sending request to https://cds.climate.copernicus.eu/api/v2/resources/reanalysis-era5-land\n",
      "2021-11-19 11:07:25,034 INFO Request is completed\n"
     ]
    },
    {
     "name": "stdout",
     "output_type": "stream",
     "text": [
      "1965\n",
      "1966\n"
     ]
    },
    {
     "name": "stderr",
     "output_type": "stream",
     "text": [
      "2021-11-19 11:07:25,106 INFO Welcome to the CDS\n",
      "2021-11-19 11:07:25,108 INFO Sending request to https://cds.climate.copernicus.eu/api/v2/resources/reanalysis-era5-land\n",
      "2021-11-19 11:07:25,167 INFO Request is completed\n",
      "2021-11-19 11:07:25,234 INFO Welcome to the CDS\n",
      "2021-11-19 11:07:25,234 INFO Sending request to https://cds.climate.copernicus.eu/api/v2/resources/reanalysis-era5-land\n",
      "2021-11-19 11:07:25,281 INFO Request is completed\n"
     ]
    },
    {
     "name": "stdout",
     "output_type": "stream",
     "text": [
      "1967\n",
      "1968\n"
     ]
    },
    {
     "name": "stderr",
     "output_type": "stream",
     "text": [
      "2021-11-19 11:07:25,340 INFO Welcome to the CDS\n",
      "2021-11-19 11:07:25,340 INFO Sending request to https://cds.climate.copernicus.eu/api/v2/resources/reanalysis-era5-land\n",
      "2021-11-19 11:07:25,452 INFO Request is completed\n",
      "2021-11-19 11:07:25,502 INFO Welcome to the CDS\n"
     ]
    },
    {
     "name": "stdout",
     "output_type": "stream",
     "text": [
      "1969\n",
      "1970\n"
     ]
    },
    {
     "name": "stderr",
     "output_type": "stream",
     "text": [
      "2021-11-19 11:07:25,504 INFO Sending request to https://cds.climate.copernicus.eu/api/v2/resources/reanalysis-era5-land\n",
      "2021-11-19 11:07:25,557 INFO Request is completed\n",
      "2021-11-19 11:07:25,617 INFO Welcome to the CDS\n",
      "2021-11-19 11:07:25,619 INFO Sending request to https://cds.climate.copernicus.eu/api/v2/resources/reanalysis-era5-land\n",
      "2021-11-19 11:07:25,722 INFO Request is completed\n",
      "2021-11-19 11:07:25,778 INFO Welcome to the CDS\n"
     ]
    },
    {
     "name": "stdout",
     "output_type": "stream",
     "text": [
      "1971\n",
      "1972\n"
     ]
    },
    {
     "name": "stderr",
     "output_type": "stream",
     "text": [
      "2021-11-19 11:07:25,780 INFO Sending request to https://cds.climate.copernicus.eu/api/v2/resources/reanalysis-era5-land\n",
      "2021-11-19 11:07:25,834 INFO Request is completed\n",
      "2021-11-19 11:07:25,891 INFO Welcome to the CDS\n",
      "2021-11-19 11:07:25,893 INFO Sending request to https://cds.climate.copernicus.eu/api/v2/resources/reanalysis-era5-land\n",
      "2021-11-19 11:07:25,947 INFO Request is completed\n",
      "2021-11-19 11:07:26,015 INFO Welcome to the CDS\n",
      "2021-11-19 11:07:26,017 INFO Sending request to https://cds.climate.copernicus.eu/api/v2/resources/reanalysis-era5-land\n"
     ]
    },
    {
     "name": "stdout",
     "output_type": "stream",
     "text": [
      "1973\n",
      "1974\n"
     ]
    },
    {
     "name": "stderr",
     "output_type": "stream",
     "text": [
      "2021-11-19 11:07:26,109 INFO Request is completed\n",
      "2021-11-19 11:07:26,167 INFO Welcome to the CDS\n",
      "2021-11-19 11:07:26,169 INFO Sending request to https://cds.climate.copernicus.eu/api/v2/resources/reanalysis-era5-land\n",
      "2021-11-19 11:07:26,225 INFO Request is completed\n",
      "2021-11-19 11:07:26,274 INFO Welcome to the CDS\n",
      "2021-11-19 11:07:26,276 INFO Sending request to https://cds.climate.copernicus.eu/api/v2/resources/reanalysis-era5-land\n",
      "2021-11-19 11:07:26,327 INFO Request is completed\n"
     ]
    },
    {
     "name": "stdout",
     "output_type": "stream",
     "text": [
      "1975\n",
      "1976\n"
     ]
    },
    {
     "name": "stderr",
     "output_type": "stream",
     "text": [
      "2021-11-19 11:07:26,385 INFO Welcome to the CDS\n",
      "2021-11-19 11:07:26,387 INFO Sending request to https://cds.climate.copernicus.eu/api/v2/resources/reanalysis-era5-land\n",
      "2021-11-19 11:07:26,443 INFO Request is completed\n",
      "2021-11-19 11:07:26,500 INFO Welcome to the CDS\n",
      "2021-11-19 11:07:26,501 INFO Sending request to https://cds.climate.copernicus.eu/api/v2/resources/reanalysis-era5-land\n"
     ]
    },
    {
     "name": "stdout",
     "output_type": "stream",
     "text": [
      "1977\n",
      "1978\n"
     ]
    },
    {
     "name": "stderr",
     "output_type": "stream",
     "text": [
      "2021-11-19 11:07:26,552 INFO Request is completed\n",
      "2021-11-19 11:07:26,611 INFO Welcome to the CDS\n",
      "2021-11-19 11:07:26,613 INFO Sending request to https://cds.climate.copernicus.eu/api/v2/resources/reanalysis-era5-land\n",
      "2021-11-19 11:07:26,664 INFO Request is completed\n",
      "2021-11-19 11:07:26,721 INFO Welcome to the CDS\n",
      "2021-11-19 11:07:26,721 INFO Sending request to https://cds.climate.copernicus.eu/api/v2/resources/reanalysis-era5-land\n"
     ]
    },
    {
     "name": "stdout",
     "output_type": "stream",
     "text": [
      "1979\n",
      "1980\n"
     ]
    },
    {
     "name": "stderr",
     "output_type": "stream",
     "text": [
      "2021-11-19 11:07:26,788 INFO Request is completed\n",
      "2021-11-19 11:07:26,845 INFO Welcome to the CDS\n",
      "2021-11-19 11:07:26,847 INFO Sending request to https://cds.climate.copernicus.eu/api/v2/resources/reanalysis-era5-land\n",
      "2021-11-19 11:07:26,892 INFO Request is completed\n",
      "2021-11-19 11:07:26,942 INFO Welcome to the CDS\n",
      "2021-11-19 11:07:26,943 INFO Sending request to https://cds.climate.copernicus.eu/api/v2/resources/reanalysis-era5-land\n",
      "2021-11-19 11:07:26,994 INFO Request is completed\n"
     ]
    },
    {
     "name": "stdout",
     "output_type": "stream",
     "text": [
      "1981\n",
      "1982\n",
      "1983\n"
     ]
    },
    {
     "name": "stderr",
     "output_type": "stream",
     "text": [
      "2021-11-19 11:07:27,047 INFO Welcome to the CDS\n",
      "2021-11-19 11:07:27,049 INFO Sending request to https://cds.climate.copernicus.eu/api/v2/resources/reanalysis-era5-land\n",
      "2021-11-19 11:07:27,104 INFO Request is completed\n",
      "2021-11-19 11:07:27,237 INFO Welcome to the CDS\n",
      "2021-11-19 11:07:27,239 INFO Sending request to https://cds.climate.copernicus.eu/api/v2/resources/reanalysis-era5-land\n",
      "2021-11-19 11:07:27,297 INFO Request is completed\n"
     ]
    },
    {
     "name": "stdout",
     "output_type": "stream",
     "text": [
      "1984\n"
     ]
    },
    {
     "name": "stderr",
     "output_type": "stream",
     "text": [
      "2021-11-19 11:07:27,357 INFO Welcome to the CDS\n",
      "2021-11-19 11:07:27,358 INFO Sending request to https://cds.climate.copernicus.eu/api/v2/resources/reanalysis-era5-land\n",
      "2021-11-19 11:07:27,417 INFO Request is completed\n",
      "2021-11-19 11:07:27,476 INFO Welcome to the CDS\n",
      "2021-11-19 11:07:27,477 INFO Sending request to https://cds.climate.copernicus.eu/api/v2/resources/reanalysis-era5-land\n"
     ]
    },
    {
     "name": "stdout",
     "output_type": "stream",
     "text": [
      "1985\n",
      "1986\n"
     ]
    },
    {
     "name": "stderr",
     "output_type": "stream",
     "text": [
      "2021-11-19 11:07:27,575 INFO Request is completed\n",
      "2021-11-19 11:07:27,619 INFO Welcome to the CDS\n",
      "2021-11-19 11:07:27,620 INFO Sending request to https://cds.climate.copernicus.eu/api/v2/resources/reanalysis-era5-land\n",
      "2021-11-19 11:07:27,687 INFO Request is completed\n",
      "2021-11-19 11:07:27,740 INFO Welcome to the CDS\n",
      "2021-11-19 11:07:27,741 INFO Sending request to https://cds.climate.copernicus.eu/api/v2/resources/reanalysis-era5-land\n"
     ]
    },
    {
     "name": "stdout",
     "output_type": "stream",
     "text": [
      "1987\n",
      "1988\n"
     ]
    },
    {
     "name": "stderr",
     "output_type": "stream",
     "text": [
      "2021-11-19 11:07:27,828 INFO Request is completed\n",
      "2021-11-19 11:07:27,877 INFO Welcome to the CDS\n",
      "2021-11-19 11:07:27,879 INFO Sending request to https://cds.climate.copernicus.eu/api/v2/resources/reanalysis-era5-land\n",
      "2021-11-19 11:07:27,935 INFO Request is completed\n",
      "2021-11-19 11:07:27,987 INFO Welcome to the CDS\n",
      "2021-11-19 11:07:27,989 INFO Sending request to https://cds.climate.copernicus.eu/api/v2/resources/reanalysis-era5-land\n"
     ]
    },
    {
     "name": "stdout",
     "output_type": "stream",
     "text": [
      "1989\n",
      "1990\n"
     ]
    },
    {
     "name": "stderr",
     "output_type": "stream",
     "text": [
      "2021-11-19 11:07:28,076 INFO Request is completed\n",
      "2021-11-19 11:07:28,137 INFO Welcome to the CDS\n",
      "2021-11-19 11:07:28,139 INFO Sending request to https://cds.climate.copernicus.eu/api/v2/resources/reanalysis-era5-land\n",
      "2021-11-19 11:07:28,215 INFO Request is completed\n",
      "2021-11-19 11:07:28,271 INFO Welcome to the CDS\n",
      "2021-11-19 11:07:28,273 INFO Sending request to https://cds.climate.copernicus.eu/api/v2/resources/reanalysis-era5-land\n"
     ]
    },
    {
     "name": "stdout",
     "output_type": "stream",
     "text": [
      "1991\n",
      "1992\n"
     ]
    },
    {
     "name": "stderr",
     "output_type": "stream",
     "text": [
      "2021-11-19 11:07:28,365 INFO Request is completed\n",
      "2021-11-19 11:07:28,424 INFO Welcome to the CDS\n",
      "2021-11-19 11:07:28,425 INFO Sending request to https://cds.climate.copernicus.eu/api/v2/resources/reanalysis-era5-land\n",
      "2021-11-19 11:07:28,477 INFO Request is completed\n",
      "2021-11-19 11:07:28,538 INFO Welcome to the CDS\n",
      "2021-11-19 11:07:28,540 INFO Sending request to https://cds.climate.copernicus.eu/api/v2/resources/reanalysis-era5-land\n"
     ]
    },
    {
     "name": "stdout",
     "output_type": "stream",
     "text": [
      "1993\n",
      "1994\n"
     ]
    },
    {
     "name": "stderr",
     "output_type": "stream",
     "text": [
      "2021-11-19 11:07:28,650 INFO Request is completed\n",
      "2021-11-19 11:07:28,707 INFO Welcome to the CDS\n",
      "2021-11-19 11:07:28,708 INFO Sending request to https://cds.climate.copernicus.eu/api/v2/resources/reanalysis-era5-land\n",
      "2021-11-19 11:07:28,759 INFO Request is completed\n",
      "2021-11-19 11:07:28,816 INFO Welcome to the CDS\n",
      "2021-11-19 11:07:28,817 INFO Sending request to https://cds.climate.copernicus.eu/api/v2/resources/reanalysis-era5-land\n"
     ]
    },
    {
     "name": "stdout",
     "output_type": "stream",
     "text": [
      "1995\n",
      "1996\n"
     ]
    },
    {
     "name": "stderr",
     "output_type": "stream",
     "text": [
      "2021-11-19 11:07:28,889 INFO Request is completed\n",
      "2021-11-19 11:07:28,941 INFO Welcome to the CDS\n",
      "2021-11-19 11:07:28,943 INFO Sending request to https://cds.climate.copernicus.eu/api/v2/resources/reanalysis-era5-land\n",
      "2021-11-19 11:07:29,002 INFO Request is completed\n",
      "2021-11-19 11:07:29,062 INFO Welcome to the CDS\n",
      "2021-11-19 11:07:29,064 INFO Sending request to https://cds.climate.copernicus.eu/api/v2/resources/reanalysis-era5-land\n"
     ]
    },
    {
     "name": "stdout",
     "output_type": "stream",
     "text": [
      "1997\n",
      "1998\n"
     ]
    },
    {
     "name": "stderr",
     "output_type": "stream",
     "text": [
      "2021-11-19 11:07:29,165 INFO Request is completed\n",
      "2021-11-19 11:07:29,228 INFO Welcome to the CDS\n",
      "2021-11-19 11:07:29,229 INFO Sending request to https://cds.climate.copernicus.eu/api/v2/resources/reanalysis-era5-land\n",
      "2021-11-19 11:07:29,292 INFO Request is completed\n",
      "2021-11-19 11:07:29,345 INFO Welcome to the CDS\n",
      "2021-11-19 11:07:29,347 INFO Sending request to https://cds.climate.copernicus.eu/api/v2/resources/reanalysis-era5-land\n"
     ]
    },
    {
     "name": "stdout",
     "output_type": "stream",
     "text": [
      "1999\n",
      "2000\n"
     ]
    },
    {
     "name": "stderr",
     "output_type": "stream",
     "text": [
      "2021-11-19 11:07:29,401 INFO Request is completed\n",
      "2021-11-19 11:07:29,464 INFO Welcome to the CDS\n",
      "2021-11-19 11:07:29,466 INFO Sending request to https://cds.climate.copernicus.eu/api/v2/resources/reanalysis-era5-land\n",
      "2021-11-19 11:07:29,525 INFO Request is completed\n",
      "2021-11-19 11:07:29,588 INFO Welcome to the CDS\n",
      "2021-11-19 11:07:29,589 INFO Sending request to https://cds.climate.copernicus.eu/api/v2/resources/reanalysis-era5-land\n"
     ]
    },
    {
     "name": "stdout",
     "output_type": "stream",
     "text": [
      "2001\n",
      "2002\n"
     ]
    },
    {
     "name": "stderr",
     "output_type": "stream",
     "text": [
      "2021-11-19 11:07:29,653 INFO Request is completed\n",
      "2021-11-19 11:07:29,702 INFO Welcome to the CDS\n",
      "2021-11-19 11:07:29,702 INFO Sending request to https://cds.climate.copernicus.eu/api/v2/resources/reanalysis-era5-land\n",
      "2021-11-19 11:07:29,797 INFO Request is completed\n",
      "2021-11-19 11:07:29,860 INFO Welcome to the CDS\n",
      "2021-11-19 11:07:29,861 INFO Sending request to https://cds.climate.copernicus.eu/api/v2/resources/reanalysis-era5-land\n"
     ]
    },
    {
     "name": "stdout",
     "output_type": "stream",
     "text": [
      "2003\n",
      "2004\n"
     ]
    },
    {
     "name": "stderr",
     "output_type": "stream",
     "text": [
      "2021-11-19 11:07:29,910 INFO Request is completed\n",
      "2021-11-19 11:07:29,974 INFO Welcome to the CDS\n",
      "2021-11-19 11:07:29,975 INFO Sending request to https://cds.climate.copernicus.eu/api/v2/resources/reanalysis-era5-land\n",
      "2021-11-19 11:07:30,035 INFO Request is completed\n",
      "2021-11-19 11:07:30,096 INFO Welcome to the CDS\n",
      "2021-11-19 11:07:30,098 INFO Sending request to https://cds.climate.copernicus.eu/api/v2/resources/reanalysis-era5-land\n"
     ]
    },
    {
     "name": "stdout",
     "output_type": "stream",
     "text": [
      "2005\n",
      "2006\n"
     ]
    },
    {
     "name": "stderr",
     "output_type": "stream",
     "text": [
      "2021-11-19 11:07:30,151 INFO Request is completed\n",
      "2021-11-19 11:07:30,217 INFO Welcome to the CDS\n",
      "2021-11-19 11:07:30,219 INFO Sending request to https://cds.climate.copernicus.eu/api/v2/resources/reanalysis-era5-land\n",
      "2021-11-19 11:07:30,323 INFO Request is completed\n",
      "2021-11-19 11:07:30,381 INFO Welcome to the CDS\n"
     ]
    },
    {
     "name": "stdout",
     "output_type": "stream",
     "text": [
      "2007\n",
      "2008\n"
     ]
    },
    {
     "name": "stderr",
     "output_type": "stream",
     "text": [
      "2021-11-19 11:07:30,382 INFO Sending request to https://cds.climate.copernicus.eu/api/v2/resources/reanalysis-era5-land\n",
      "2021-11-19 11:07:30,443 INFO Request is completed\n",
      "2021-11-19 11:07:30,491 INFO Welcome to the CDS\n",
      "2021-11-19 11:07:30,493 INFO Sending request to https://cds.climate.copernicus.eu/api/v2/resources/reanalysis-era5-land\n",
      "2021-11-19 11:07:30,539 INFO Request is completed\n",
      "2021-11-19 11:07:30,597 INFO Welcome to the CDS\n",
      "2021-11-19 11:07:30,597 INFO Sending request to https://cds.climate.copernicus.eu/api/v2/resources/reanalysis-era5-land\n",
      "2021-11-19 11:07:30,662 INFO Request is completed\n"
     ]
    },
    {
     "name": "stdout",
     "output_type": "stream",
     "text": [
      "2009\n",
      "2010\n"
     ]
    },
    {
     "name": "stderr",
     "output_type": "stream",
     "text": [
      "2021-11-19 11:07:30,728 INFO Welcome to the CDS\n",
      "2021-11-19 11:07:30,729 INFO Sending request to https://cds.climate.copernicus.eu/api/v2/resources/reanalysis-era5-land\n",
      "2021-11-19 11:07:30,785 INFO Request is completed\n",
      "2021-11-19 11:07:30,832 INFO Welcome to the CDS\n",
      "2021-11-19 11:07:30,832 INFO Sending request to https://cds.climate.copernicus.eu/api/v2/resources/reanalysis-era5-land\n",
      "2021-11-19 11:07:30,882 INFO Request is completed\n"
     ]
    },
    {
     "name": "stdout",
     "output_type": "stream",
     "text": [
      "2011\n",
      "2012\n"
     ]
    },
    {
     "name": "stderr",
     "output_type": "stream",
     "text": [
      "2021-11-19 11:07:30,932 INFO Welcome to the CDS\n",
      "2021-11-19 11:07:30,933 INFO Sending request to https://cds.climate.copernicus.eu/api/v2/resources/reanalysis-era5-land\n",
      "2021-11-19 11:07:31,031 INFO Request is completed\n",
      "2021-11-19 11:07:31,083 INFO Welcome to the CDS\n",
      "2021-11-19 11:07:31,083 INFO Sending request to https://cds.climate.copernicus.eu/api/v2/resources/reanalysis-era5-land\n"
     ]
    },
    {
     "name": "stdout",
     "output_type": "stream",
     "text": [
      "2013\n",
      "2014\n"
     ]
    },
    {
     "name": "stderr",
     "output_type": "stream",
     "text": [
      "2021-11-19 11:07:31,142 INFO Request is completed\n",
      "2021-11-19 11:07:31,192 INFO Welcome to the CDS\n",
      "2021-11-19 11:07:31,193 INFO Sending request to https://cds.climate.copernicus.eu/api/v2/resources/reanalysis-era5-land\n",
      "2021-11-19 11:07:31,266 INFO Request is completed\n",
      "2021-11-19 11:07:31,319 INFO Welcome to the CDS\n",
      "2021-11-19 11:07:31,320 INFO Sending request to https://cds.climate.copernicus.eu/api/v2/resources/reanalysis-era5-land\n",
      "2021-11-19 11:07:31,364 INFO Request is completed\n"
     ]
    },
    {
     "name": "stdout",
     "output_type": "stream",
     "text": [
      "2015\n",
      "2016\n"
     ]
    },
    {
     "name": "stderr",
     "output_type": "stream",
     "text": [
      "2021-11-19 11:07:31,416 INFO Welcome to the CDS\n",
      "2021-11-19 11:07:31,417 INFO Sending request to https://cds.climate.copernicus.eu/api/v2/resources/reanalysis-era5-land\n",
      "2021-11-19 11:07:31,535 INFO Request is completed\n",
      "2021-11-19 11:07:31,590 INFO Welcome to the CDS\n"
     ]
    },
    {
     "name": "stdout",
     "output_type": "stream",
     "text": [
      "2017\n",
      "2018\n"
     ]
    },
    {
     "name": "stderr",
     "output_type": "stream",
     "text": [
      "2021-11-19 11:07:31,591 INFO Sending request to https://cds.climate.copernicus.eu/api/v2/resources/reanalysis-era5-land\n",
      "2021-11-19 11:07:31,637 INFO Request is completed\n",
      "2021-11-19 11:07:31,719 INFO Welcome to the CDS\n",
      "2021-11-19 11:07:31,720 INFO Sending request to https://cds.climate.copernicus.eu/api/v2/resources/reanalysis-era5-land\n",
      "2021-11-19 11:07:31,765 INFO Request is completed\n",
      "2021-11-19 11:07:31,825 INFO Welcome to the CDS\n",
      "2021-11-19 11:07:31,826 INFO Sending request to https://cds.climate.copernicus.eu/api/v2/resources/reanalysis-era5-land\n"
     ]
    },
    {
     "name": "stdout",
     "output_type": "stream",
     "text": [
      "2019\n",
      "2020\n"
     ]
    },
    {
     "name": "stderr",
     "output_type": "stream",
     "text": [
      "2021-11-19 11:07:31,934 INFO Request is completed\n",
      "2021-11-19 11:07:31,987 INFO Welcome to the CDS\n",
      "2021-11-19 11:07:31,987 INFO Sending request to https://cds.climate.copernicus.eu/api/v2/resources/reanalysis-era5-land\n",
      "2021-11-19 11:07:32,033 INFO Request is completed\n"
     ]
    },
    {
     "name": "stdout",
     "output_type": "stream",
     "text": [
      "2021\n"
     ]
    },
    {
     "ename": "TypeError",
     "evalue": "bad operand type for unary +: 'str'",
     "output_type": "error",
     "traceback": [
      "\u001b[1;31m---------------------------------------------------------------------------\u001b[0m",
      "\u001b[1;31mTypeError\u001b[0m                                 Traceback (most recent call last)",
      "\u001b[1;32m<ipython-input-2-3699f9b621c2>\u001b[0m in \u001b[0;36m<module>\u001b[1;34m\u001b[0m\n\u001b[0;32m     16\u001b[0m \u001b[0mregion\u001b[0m \u001b[1;33m=\u001b[0m \u001b[1;34m\"World\"\u001b[0m\u001b[1;33m\u001b[0m\u001b[1;33m\u001b[0m\u001b[0m\n\u001b[0;32m     17\u001b[0m \u001b[1;33m\u001b[0m\u001b[0m\n\u001b[1;32m---> 18\u001b[1;33m download_ERA5_hourly_data(filenamecore = region,\n\u001b[0m\u001b[0;32m     19\u001b[0m                           \u001b[0mpath1\u001b[0m \u001b[1;33m=\u001b[0m \u001b[0mpath1\u001b[0m\u001b[1;33m,\u001b[0m\u001b[1;33m\u001b[0m\u001b[1;33m\u001b[0m\u001b[0m\n\u001b[0;32m     20\u001b[0m                           \u001b[0mvarname\u001b[0m\u001b[1;33m=\u001b[0m\u001b[1;34m\"total_precipitation\"\u001b[0m\u001b[1;33m,\u001b[0m\u001b[1;33m\u001b[0m\u001b[1;33m\u001b[0m\u001b[0m\n",
      "\u001b[1;32m~\\OneDrive - WBG\\Desktop\\Sahel_WA_climate\\codebase\\data.py\u001b[0m in \u001b[0;36mdownload_ERA5_hourly_data\u001b[1;34m(filenamecore, path1, varname, start_year, end_year, area)\u001b[0m\n\u001b[0;32m     61\u001b[0m             })\n\u001b[0;32m     62\u001b[0m \u001b[1;33m\u001b[0m\u001b[0m\n\u001b[1;32m---> 63\u001b[1;33m     \u001b[1;32mreturn\u001b[0m \u001b[0mr\u001b[0m\u001b[1;33m.\u001b[0m\u001b[0mdownload\u001b[0m\u001b[1;33m(\u001b[0m\u001b[0mpath1\u001b[0m \u001b[1;33m+\u001b[0m \u001b[1;34m\"/\"\u001b[0m\u001b[1;33m,\u001b[0m \u001b[0mfilenamecore\u001b[0m\u001b[1;33m,\u001b[0m \u001b[1;33m+\u001b[0m \u001b[0my\u001b[0m \u001b[1;33m+\u001b[0m \u001b[1;34m\".nc\"\u001b[0m\u001b[1;33m)\u001b[0m\u001b[1;33m\u001b[0m\u001b[1;33m\u001b[0m\u001b[0m\n\u001b[0m",
      "\u001b[1;31mTypeError\u001b[0m: bad operand type for unary +: 'str'"
     ]
    }
   ],
   "source": [
    "import cdsapi\n",
    "import os, time\n",
    "import pandas as pd\n",
    "from pathlib import Path\n",
    "\n",
    "path = Path(\"C:/Users/wb544715/OneDrive - WBG/Desktop/Sahel_WA_climate/\")\n",
    "os.chdir(path)\n",
    "from codebase.data import download_ERA5_hourly_data\n",
    "\n",
    "\n",
    "path1 = os.path.join(path, \"ERA5_ncfiles/hourly/\")\n",
    "print(path1)\n",
    "\n",
    "\n",
    "data = {'Location':['Niamey', 'NDjamena', 'Ouagadougou', 'Nouakchott','Bamako',\n",
    "                   'Niger', 'Chad', 'Burkina Faso', 'Mauritania', 'Mali',\n",
    "                    'Sahel_Giannini', 'Senegal_Giannini', \n",
    "                    'Sahelian_band',\n",
    "                    'Western_Sahel', 'Eastern_Sahel'\n",
    "                   ],\n",
    "        'N':[20, 21, 19, 18,],\n",
    "        'W':[20, 21, 19, 18],\n",
    "        'S':[20, 21, 19, 18],\n",
    "        'E':[20, 21, 19, 18],}\n",
    "  \n",
    "# Create DataFrame\n",
    "df = pd.DataFrame(data)\n",
    "  \n",
    "# Print the output.\n",
    "df\n",
    "\n",
    "area = [20, -17, 10, -12] # N,W,S,E\n",
    "\n",
    "region = \"World\"\n",
    "\n",
    "download_ERA5_hourly_data(filenamecore = region,\n",
    "                          path1 = path1,\n",
    "                          varname=\"total_precipitation\",\n",
    "                          start_year = 1950, \n",
    "                          end_year = 1951,\n",
    "                          area = area)\n"
   ]
  },
  {
   "cell_type": "code",
   "execution_count": null,
   "id": "52b08d6b",
   "metadata": {},
   "outputs": [],
   "source": []
  }
 ],
 "metadata": {
  "kernelspec": {
   "display_name": "Python 3",
   "language": "python",
   "name": "python3"
  },
  "language_info": {
   "codemirror_mode": {
    "name": "ipython",
    "version": 3
   },
   "file_extension": ".py",
   "mimetype": "text/x-python",
   "name": "python",
   "nbconvert_exporter": "python",
   "pygments_lexer": "ipython3",
   "version": "3.8.8"
  }
 },
 "nbformat": 4,
 "nbformat_minor": 5
}
