{
 "cells": [
  {
   "cell_type": "markdown",
   "id": "92e3a750",
   "metadata": {},
   "source": [
    "This is only to download data"
   ]
  },
  {
   "cell_type": "code",
   "execution_count": 6,
   "id": "8b491bc5",
   "metadata": {},
   "outputs": [
    {
     "name": "stdout",
     "output_type": "stream",
     "text": [
      "C:\\Users\\wb544715\\OneDrive - WBG\\Desktop\\Sahel_WA_climate\n"
     ]
    }
   ],
   "source": [
    "import cdsapi\n",
    "import os, time\n",
    "from pathlib import Path\n",
    "path = Path(\"C:/Users/wb544715/OneDrive - WBG/Desktop/Sahel_WA_climate/\")\n",
    "os.chdir(path)\n",
    "cwd_new = os.getcwd()\n",
    "print(os.getcwd())\n",
    "from codebase.data import download_ERA5_hourly_data"
   ]
  },
  {
   "cell_type": "code",
   "execution_count": null,
   "id": "d4d6421e",
   "metadata": {},
   "outputs": [
    {
     "name": "stderr",
     "output_type": "stream",
     "text": [
      "2021-11-28 08:51:35,147 INFO Welcome to the CDS\n"
     ]
    },
    {
     "name": "stdout",
     "output_type": "stream",
     "text": [
      "1950\n"
     ]
    },
    {
     "name": "stderr",
     "output_type": "stream",
     "text": [
      "2021-11-28 08:51:35,147 INFO Sending request to https://cds.climate.copernicus.eu/api/v2/resources/reanalysis-era5-land\n",
      "2021-11-28 08:51:35,190 INFO Request is queued\n",
      "2021-11-28 08:51:36,223 INFO Request is running\n",
      "2021-11-28 09:17:54,425 INFO Request is completed\n",
      "2021-11-28 09:17:54,457 INFO Welcome to the CDS\n",
      "2021-11-28 09:17:54,458 INFO Sending request to https://cds.climate.copernicus.eu/api/v2/resources/reanalysis-era5-land\n",
      "2021-11-28 09:17:54,490 INFO Request is queued\n"
     ]
    },
    {
     "name": "stdout",
     "output_type": "stream",
     "text": [
      "1951\n"
     ]
    },
    {
     "name": "stderr",
     "output_type": "stream",
     "text": [
      "2021-11-28 09:17:55,506 INFO Request is running\n",
      "2021-11-28 09:46:14,073 INFO Request is completed\n",
      "2021-11-28 09:46:14,130 INFO Welcome to the CDS\n",
      "2021-11-28 09:46:14,131 INFO Sending request to https://cds.climate.copernicus.eu/api/v2/resources/reanalysis-era5-land\n",
      "2021-11-28 09:46:14,148 INFO Request is queued\n"
     ]
    },
    {
     "name": "stdout",
     "output_type": "stream",
     "text": [
      "1952\n"
     ]
    },
    {
     "name": "stderr",
     "output_type": "stream",
     "text": [
      "2021-11-28 09:46:15,180 INFO Request is running\n",
      "2021-11-28 10:10:33,176 INFO Request is completed\n",
      "2021-11-28 10:10:33,219 INFO Welcome to the CDS\n",
      "2021-11-28 10:10:33,219 INFO Sending request to https://cds.climate.copernicus.eu/api/v2/resources/reanalysis-era5-land\n",
      "2021-11-28 10:10:33,241 INFO Request is queued\n"
     ]
    },
    {
     "name": "stdout",
     "output_type": "stream",
     "text": [
      "1953\n"
     ]
    },
    {
     "name": "stderr",
     "output_type": "stream",
     "text": [
      "2021-11-28 10:10:34,269 INFO Request is running\n",
      "2021-11-28 10:36:52,655 INFO Request is completed\n",
      "2021-11-28 10:36:52,717 INFO Welcome to the CDS\n",
      "2021-11-28 10:36:52,717 INFO Sending request to https://cds.climate.copernicus.eu/api/v2/resources/reanalysis-era5-land\n",
      "2021-11-28 10:36:52,743 INFO Request is queued\n"
     ]
    },
    {
     "name": "stdout",
     "output_type": "stream",
     "text": [
      "1954\n"
     ]
    },
    {
     "name": "stderr",
     "output_type": "stream",
     "text": [
      "2021-11-28 10:36:53,777 INFO Request is running\n",
      "2021-11-28 11:07:12,066 INFO Request is completed\n",
      "2021-11-28 11:07:12,110 INFO Welcome to the CDS\n",
      "2021-11-28 11:07:12,110 INFO Sending request to https://cds.climate.copernicus.eu/api/v2/resources/reanalysis-era5-land\n",
      "2021-11-28 11:07:12,132 INFO Request is queued\n"
     ]
    },
    {
     "name": "stdout",
     "output_type": "stream",
     "text": [
      "1955\n"
     ]
    },
    {
     "name": "stderr",
     "output_type": "stream",
     "text": [
      "2021-11-28 11:07:13,156 INFO Request is running\n",
      "2021-11-28 11:31:31,144 INFO Request is completed\n",
      "2021-11-28 11:31:31,203 INFO Welcome to the CDS\n",
      "2021-11-28 11:31:31,203 INFO Sending request to https://cds.climate.copernicus.eu/api/v2/resources/reanalysis-era5-land\n",
      "2021-11-28 11:31:31,227 INFO Request is queued\n"
     ]
    },
    {
     "name": "stdout",
     "output_type": "stream",
     "text": [
      "1956\n"
     ]
    },
    {
     "name": "stderr",
     "output_type": "stream",
     "text": [
      "2021-11-28 11:31:32,236 INFO Request is running\n",
      "2021-11-28 11:57:50,358 INFO Request is completed\n",
      "2021-11-28 11:57:50,413 INFO Welcome to the CDS\n",
      "2021-11-28 11:57:50,414 INFO Sending request to https://cds.climate.copernicus.eu/api/v2/resources/reanalysis-era5-land\n",
      "2021-11-28 11:57:50,427 INFO Request is queued\n"
     ]
    },
    {
     "name": "stdout",
     "output_type": "stream",
     "text": [
      "1957\n"
     ]
    },
    {
     "name": "stderr",
     "output_type": "stream",
     "text": [
      "2021-11-28 11:57:51,451 INFO Request is running\n",
      "2021-11-28 12:22:09,361 INFO Request is completed\n",
      "2021-11-28 12:22:09,406 INFO Welcome to the CDS\n",
      "2021-11-28 12:22:09,406 INFO Sending request to https://cds.climate.copernicus.eu/api/v2/resources/reanalysis-era5-land\n",
      "2021-11-28 12:22:09,440 INFO Request is queued\n"
     ]
    },
    {
     "name": "stdout",
     "output_type": "stream",
     "text": [
      "1958\n"
     ]
    },
    {
     "name": "stderr",
     "output_type": "stream",
     "text": [
      "2021-11-28 12:22:10,456 INFO Request is running\n",
      "2021-11-28 12:48:28,578 INFO Request is completed\n",
      "2021-11-28 12:48:28,622 INFO Welcome to the CDS\n",
      "2021-11-28 12:48:28,622 INFO Sending request to https://cds.climate.copernicus.eu/api/v2/resources/reanalysis-era5-land\n",
      "2021-11-28 12:48:28,652 INFO Request is queued\n"
     ]
    },
    {
     "name": "stdout",
     "output_type": "stream",
     "text": [
      "1959\n"
     ]
    },
    {
     "name": "stderr",
     "output_type": "stream",
     "text": [
      "2021-11-28 12:48:29,689 INFO Request is running\n",
      "2021-11-28 13:14:47,822 INFO Request is completed\n",
      "2021-11-28 13:14:47,873 INFO Welcome to the CDS\n",
      "2021-11-28 13:14:47,874 INFO Sending request to https://cds.climate.copernicus.eu/api/v2/resources/reanalysis-era5-land\n",
      "2021-11-28 13:14:47,901 INFO Request is queued\n"
     ]
    },
    {
     "name": "stdout",
     "output_type": "stream",
     "text": [
      "1960\n"
     ]
    },
    {
     "name": "stderr",
     "output_type": "stream",
     "text": [
      "2021-11-28 13:14:48,933 INFO Request is running\n",
      "2021-11-28 13:39:07,145 INFO Request is completed\n",
      "2021-11-28 13:39:07,200 INFO Welcome to the CDS\n",
      "2021-11-28 13:39:07,201 INFO Sending request to https://cds.climate.copernicus.eu/api/v2/resources/reanalysis-era5-land\n",
      "2021-11-28 13:39:07,228 INFO Request is queued\n"
     ]
    },
    {
     "name": "stdout",
     "output_type": "stream",
     "text": [
      "1961\n"
     ]
    },
    {
     "name": "stderr",
     "output_type": "stream",
     "text": [
      "2021-11-28 13:39:08,257 INFO Request is running\n",
      "2021-11-28 14:05:26,336 INFO Request is completed\n",
      "2021-11-28 14:05:26,383 INFO Welcome to the CDS\n",
      "2021-11-28 14:05:26,383 INFO Sending request to https://cds.climate.copernicus.eu/api/v2/resources/reanalysis-era5-land\n",
      "2021-11-28 14:05:26,404 INFO Request is queued\n"
     ]
    },
    {
     "name": "stdout",
     "output_type": "stream",
     "text": [
      "1962\n"
     ]
    },
    {
     "name": "stderr",
     "output_type": "stream",
     "text": [
      "2021-11-28 14:05:27,424 INFO Request is running\n"
     ]
    }
   ],
   "source": [
    "location = 'Niamey'\n",
    "outfilenamecore = 'ERA5Land_' + location + '_hourly_prcp_'\n",
    "outpath = 'C:/Users/wb544715/OneDrive - WBG/Desktop/Sahel_WA_climate/Data/ERA5_ncfiles/hourly/'\n",
    "dataset = 'reanalysis-era5-land'\n",
    "varname = 'total_precipitation'\n",
    "start_year = 1950\n",
    "end_year = 2022\n",
    "X0, X1 = (2.00, 2.25)\n",
    "Y0, Y1 = (13.60, 13.40)\n",
    "\n",
    "area = [Y1, X0, Y0, X1] # N, W, S, E\n",
    "\n",
    "a = download_ERA5_hourly_data(outpath = outpath,\n",
    "                          outfilenamecore = outfilenamecore,\n",
    "                          dataset = dataset,\n",
    "                          varname = varname,\n",
    "                          start_year = start_year,\n",
    "                          end_year = end_year,\n",
    "                          area = area, #: N,W,S,E\n",
    "                          grid = [0.1, 0.1] # lat/lon grid. Default: 0.1 x 0.1 for ERA5Land, 0.25 x 0.25 for ERA5\n",
    "                               )"
   ]
  },
  {
   "cell_type": "code",
   "execution_count": null,
   "id": "fccf1d2b",
   "metadata": {},
   "outputs": [],
   "source": []
  }
 ],
 "metadata": {
  "kernelspec": {
   "display_name": "Python 3",
   "language": "python",
   "name": "python3"
  },
  "language_info": {
   "codemirror_mode": {
    "name": "ipython",
    "version": 3
   },
   "file_extension": ".py",
   "mimetype": "text/x-python",
   "name": "python",
   "nbconvert_exporter": "python",
   "pygments_lexer": "ipython3",
   "version": "3.8.8"
  }
 },
 "nbformat": 4,
 "nbformat_minor": 5
}
